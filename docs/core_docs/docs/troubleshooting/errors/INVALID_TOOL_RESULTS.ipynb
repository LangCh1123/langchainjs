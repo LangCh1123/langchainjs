{
 "cells": [
  {
   "cell_type": "markdown",
   "metadata": {},
   "source": [
    "# INVALID_TOOL_RESULTS\n",
    "\n",
    "You are passing too many, too few, or mismatched [`ToolMessages`](https://api.js.langchain.com/classes/_langchain_core.messages_tool.ToolMessage.html) to a model.\n",
    "\n",
    "When [using a model to call tools](/docs/concepts#functiontool-calling), the [`AIMessage`](https://api.js.langchain.com/classes/_langchain_core.messages.AIMessage.html)\n",
    "the model responds with will contain a `tool_calls` array. To continue the flow, the next messages you pass back to the model must\n",
    "be exactly one `ToolMessage` for each item in that array containing the result of that tool call. Each `ToolMessage` must have a `tool_call_id` field\n",
    "that matches one of the `tool_calls` on the `AIMessage`.\n",
    "\n",
    "For example, given the following response from a model:"
   ]
  },
  {
   "cell_type": "code",
   "execution_count": 1,
   "metadata": {},
   "outputs": [
    {
     "name": "stdout",
     "output_type": "stream",
     "text": [
      "AIMessage {\n",
      "  \"id\": \"msg_01S9PN4T1RPvn1tHWJysBVt3\",\n",
      "  \"content\": [\n",
      "    {\n",
      "      \"type\": \"text\",\n",
      "      \"text\": \"Certainly! I'll call the \\\"foo\\\" tool twice with no arguments as you've requested. The \\\"foo\\\" tool doesn't require any parameters, so we can proceed with the calls directly.\"\n",
      "    },\n",
      "    {\n",
      "      \"type\": \"tool_use\",\n",
      "      \"id\": \"toolu_01EN2nxE8M5gr7rJ3DvEUjoT\",\n",
      "      \"name\": \"foo\",\n",
      "      \"input\": {}\n",
      "    },\n",
      "    {\n",
      "      \"type\": \"tool_use\",\n",
      "      \"id\": \"toolu_01T2Fp8zgtWtWBacoT1LYn75\",\n",
      "      \"name\": \"foo\",\n",
      "      \"input\": {}\n",
      "    }\n",
      "  ],\n",
      "  \"additional_kwargs\": {\n",
      "    \"id\": \"msg_01S9PN4T1RPvn1tHWJysBVt3\",\n",
      "    \"type\": \"message\",\n",
      "    \"role\": \"assistant\",\n",
      "    \"model\": \"claude-3-5-sonnet-20240620\",\n",
      "    \"stop_reason\": \"tool_use\",\n",
      "    \"stop_sequence\": null,\n",
      "    \"usage\": {\n",
      "      \"input_tokens\": 371,\n",
      "      \"output_tokens\": 92\n",
      "    }\n",
      "  },\n",
      "  \"response_metadata\": {\n",
      "    \"id\": \"msg_01S9PN4T1RPvn1tHWJysBVt3\",\n",
      "    \"model\": \"claude-3-5-sonnet-20240620\",\n",
      "    \"stop_reason\": \"tool_use\",\n",
      "    \"stop_sequence\": null,\n",
      "    \"usage\": {\n",
      "      \"input_tokens\": 371,\n",
      "      \"output_tokens\": 92\n",
      "    },\n",
      "    \"type\": \"message\",\n",
      "    \"role\": \"assistant\"\n",
      "  },\n",
      "  \"tool_calls\": [\n",
      "    {\n",
      "      \"name\": \"foo\",\n",
      "      \"args\": {},\n",
      "      \"id\": \"toolu_01EN2nxE8M5gr7rJ3DvEUjoT\",\n",
      "      \"type\": \"tool_call\"\n",
      "    },\n",
      "    {\n",
      "      \"name\": \"foo\",\n",
      "      \"args\": {},\n",
      "      \"id\": \"toolu_01T2Fp8zgtWtWBacoT1LYn75\",\n",
      "      \"type\": \"tool_call\"\n",
      "    }\n",
      "  ],\n",
      "  \"invalid_tool_calls\": [],\n",
      "  \"usage_metadata\": {\n",
      "    \"input_tokens\": 371,\n",
      "    \"output_tokens\": 92,\n",
      "    \"total_tokens\": 463\n",
      "  }\n",
      "}\n"
     ]
    }
   ],
   "source": [
    "import { z } from \"zod\";\n",
    "import { tool } from \"@langchain/core/tools\";\n",
    "import { ChatOpenAI } from \"@langchain/openai\";\n",
    "import { BaseMessageLike } from \"@langchain/core/messages\";\n",
    "\n",
    "const model = new ChatOpenAI({\n",
    "  model: \"gpt-4o-mini\",\n",
    "});\n",
    "\n",
    "const dummyTool = tool(\n",
    "  async () => {\n",
    "    return \"action complete!\";\n",
    "  },\n",
    "  {\n",
    "    name: \"foo\",\n",
    "    schema: z.object({}),\n",
    "  }\n",
    ");\n",
    "\n",
    "const modelWithTools = model.bindTools([dummyTool]);\n",
    "\n",
    "const chatHistory: BaseMessageLike[] = [\n",
    "  {\n",
    "    role: \"user\",\n",
    "    content: `Call tool \"foo\" twice with no arguments`,\n",
    "  },\n",
    "];\n",
    "\n",
    "const responseMessage = await modelWithTools.invoke(chatHistory);\n",
    "\n",
    "console.log(responseMessage);"
   ]
  },
  {
   "cell_type": "markdown",
   "metadata": {},
   "source": [
    "Calling the model with only one tool response would result in an error:"
   ]
  },
  {
   "cell_type": "code",
   "execution_count": 2,
   "metadata": {},
   "outputs": [
    {
     "name": "stderr",
     "output_type": "stream",
     "text": [
      "BadRequestError: 400 {\"type\":\"error\",\"error\":{\"type\":\"invalid_request_error\",\"message\":\"messages.2: the following `tool_use` ids were not found in `tool_result` blocks: {'toolu_01T2Fp8zgtWtWBacoT1LYn75'}\"}}\n",
      "    at APIError.generate (/Users/jacoblee/langchain/langchainjs/node_modules/@anthropic-ai/sdk/error.js:41:20)\n",
      "    at Anthropic.makeStatusError (/Users/jacoblee/langchain/langchainjs/node_modules/@anthropic-ai/sdk/core.js:275:33)\n",
      "    at Anthropic.makeRequest (/Users/jacoblee/langchain/langchainjs/node_modules/@anthropic-ai/sdk/core.js:318:30)\n",
      "    at process.processTicksAndRejections (node:internal/process/task_queues:95:5)\n",
      "    at async RetryOperation._fn (/Users/jacoblee/langchain/langchainjs/node_modules/p-retry/index.js:50:12) {\n",
      "  status: 400,\n",
      "  headers: {\n",
      "    'cf-cache-status': 'DYNAMIC',\n",
      "    'cf-ray': '8d31c6654b9132c5-PHL',\n",
      "    connection: 'keep-alive',\n",
      "    'content-length': '185',\n",
      "    'content-type': 'application/json',\n",
      "    date: 'Tue, 15 Oct 2024 18:12:01 GMT',\n",
      "    'request-id': 'req_01UX1mzNTAJHZKM7UXerahN5',\n",
      "    server: 'cloudflare',\n",
      "    via: '1.1 google',\n",
      "    'x-cloud-trace-context': 'bfafcbb26cade5521c8ca724b28de017',\n",
      "    'x-robots-tag': 'none',\n",
      "    'x-should-retry': 'false'\n",
      "  },\n",
      "  request_id: 'req_01UX1mzNTAJHZKM7UXerahN5',\n",
      "  error: {\n",
      "    type: 'error',\n",
      "    error: {\n",
      "      type: 'invalid_request_error',\n",
      "      message: \"messages.2: the following `tool_use` ids were not found in `tool_result` blocks: {'toolu_01T2Fp8zgtWtWBacoT1LYn75'}\"\n",
      "    }\n",
      "  },\n",
      "  attemptNumber: 1,\n",
      "  retriesLeft: 6\n",
      "}\n"
     ]
    }
   ],
   "source": [
    "const toolResponse1 = await dummyTool.invoke(responseMessage.tool_calls![0]);\n",
    "\n",
    "chatHistory.push(responseMessage);\n",
    "chatHistory.push(toolResponse1);\n",
    "\n",
    "await modelWithTools.invoke(chatHistory);"
   ]
  },
  {
   "cell_type": "markdown",
   "metadata": {},
   "source": [
    "If we add a second response, the call will succeed as expected because we now have one tool response per tool call:"
   ]
  },
  {
   "cell_type": "code",
   "execution_count": 3,
   "metadata": {},
   "outputs": [
    {
     "name": "stdout",
     "output_type": "stream",
     "text": [
      "AIMessage {\n",
      "  \"id\": \"msg_0136ZL6zZEQarNmiFrBVTizV\",\n",
      "  \"content\": \"I've called the \\\"foo\\\" tool twice as requested. Both calls were successful, and each returned the output \\\"action complete!\\\". Is there anything else you'd like me to do with the \\\"foo\\\" tool or any other questions you have?\",\n",
      "  \"additional_kwargs\": {\n",
      "    \"id\": \"msg_0136ZL6zZEQarNmiFrBVTizV\",\n",
      "    \"type\": \"message\",\n",
      "    \"role\": \"assistant\",\n",
      "    \"model\": \"claude-3-5-sonnet-20240620\",\n",
      "    \"stop_reason\": \"end_turn\",\n",
      "    \"stop_sequence\": null,\n",
      "    \"usage\": {\n",
      "      \"input_tokens\": 525,\n",
      "      \"output_tokens\": 54\n",
      "    }\n",
      "  },\n",
      "  \"response_metadata\": {\n",
      "    \"id\": \"msg_0136ZL6zZEQarNmiFrBVTizV\",\n",
      "    \"model\": \"claude-3-5-sonnet-20240620\",\n",
      "    \"stop_reason\": \"end_turn\",\n",
      "    \"stop_sequence\": null,\n",
      "    \"usage\": {\n",
      "      \"input_tokens\": 525,\n",
      "      \"output_tokens\": 54\n",
      "    },\n",
      "    \"type\": \"message\",\n",
      "    \"role\": \"assistant\"\n",
      "  },\n",
      "  \"tool_calls\": [],\n",
      "  \"invalid_tool_calls\": [],\n",
      "  \"usage_metadata\": {\n",
      "    \"input_tokens\": 525,\n",
      "    \"output_tokens\": 54,\n",
      "    \"total_tokens\": 579\n",
      "  }\n",
      "}\n"
     ]
    }
   ],
   "source": [
    "const toolResponse2 = await dummyTool.invoke(responseMessage.tool_calls![1]);\n",
    "\n",
    "chatHistory.push(toolResponse2);\n",
    "\n",
    "await modelWithTools.invoke(chatHistory);"
   ]
  },
  {
   "cell_type": "markdown",
   "metadata": {},
   "source": [
    "But if we add a duplicate, extra tool response, the call will fail again:"
   ]
  },
  {
   "cell_type": "code",
   "execution_count": 4,
   "metadata": {},
   "outputs": [
    {
     "name": "stderr",
     "output_type": "stream",
     "text": [
      "BadRequestError: 400 {\"type\":\"error\",\"error\":{\"type\":\"invalid_request_error\",\"message\":\"messages.2: Too many `tool_result` blocks found: 3, expected 2. The number of `tool_result` blocks must match the number of `tool_use` blocks in the previous message.\"}}\n",
      "    at APIError.generate (/Users/jacoblee/langchain/langchainjs/node_modules/@anthropic-ai/sdk/error.js:41:20)\n",
      "    at Anthropic.makeStatusError (/Users/jacoblee/langchain/langchainjs/node_modules/@anthropic-ai/sdk/core.js:275:33)\n",
      "    at Anthropic.makeRequest (/Users/jacoblee/langchain/langchainjs/node_modules/@anthropic-ai/sdk/core.js:318:30)\n",
      "    at process.processTicksAndRejections (node:internal/process/task_queues:95:5)\n",
      "    at async RetryOperation._fn (/Users/jacoblee/langchain/langchainjs/node_modules/p-retry/index.js:50:12) {\n",
      "  status: 400,\n",
      "  headers: {\n",
      "    'cf-cache-status': 'DYNAMIC',\n",
      "    'cf-ray': '8d31c6bc89aa32c6-PHL',\n",
      "    connection: 'keep-alive',\n",
      "    'content-length': '236',\n",
      "    'content-type': 'application/json',\n",
      "    date: 'Tue, 15 Oct 2024 18:12:15 GMT',\n",
      "    'request-id': 'req_01HntMgKy42KRjyrX9Lj2cD8',\n",
      "    server: 'cloudflare',\n",
      "    via: '1.1 google',\n",
      "    'x-cloud-trace-context': '23b1a62c3674a55ca1dd6d1f40f7b1f7',\n",
      "    'x-robots-tag': 'none',\n",
      "    'x-should-retry': 'false'\n",
      "  },\n",
      "  request_id: 'req_01HntMgKy42KRjyrX9Lj2cD8',\n",
      "  error: {\n",
      "    type: 'error',\n",
      "    error: {\n",
      "      type: 'invalid_request_error',\n",
      "      message: 'messages.2: Too many `tool_result` blocks found: 3, expected 2. The number of `tool_result` blocks must match the number of `tool_use` blocks in the previous message.'\n",
      "    }\n",
      "  },\n",
      "  attemptNumber: 1,\n",
      "  retriesLeft: 6\n",
      "}\n"
     ]
    }
   ],
   "source": [
    "const duplicateToolResponse2 = await dummyTool.invoke(responseMessage.tool_calls![1]);\n",
    "\n",
    "chatHistory.push(duplicateToolResponse2);\n",
    "\n",
    "await modelWithTools.invoke(chatHistory);"
   ]
  },
  {
   "cell_type": "markdown",
   "metadata": {},
   "source": [
    "You should additionally not pass `ToolMessages` back to to a model if they are not preceded by an `AIMessage` with tool calls. For example, this will fail:"
   ]
  },
  {
   "cell_type": "code",
   "execution_count": 5,
   "metadata": {},
   "outputs": [
    {
     "name": "stderr",
     "output_type": "stream",
     "text": [
      "BadRequestError: 400 {\"type\":\"error\",\"error\":{\"type\":\"invalid_request_error\",\"message\":\"messages.0: `tool_result` block(s) provided when previous message does not contain any `tool_use` blocks\"}}\n",
      "    at APIError.generate (/Users/jacoblee/langchain/langchainjs/node_modules/@anthropic-ai/sdk/error.js:41:20)\n",
      "    at Anthropic.makeStatusError (/Users/jacoblee/langchain/langchainjs/node_modules/@anthropic-ai/sdk/core.js:275:33)\n",
      "    at Anthropic.makeRequest (/Users/jacoblee/langchain/langchainjs/node_modules/@anthropic-ai/sdk/core.js:318:30)\n",
      "    at process.processTicksAndRejections (node:internal/process/task_queues:95:5)\n",
      "    at async RetryOperation._fn (/Users/jacoblee/langchain/langchainjs/node_modules/p-retry/index.js:50:12) {\n",
      "  status: 400,\n",
      "  headers: {\n",
      "    'cf-cache-status': 'DYNAMIC',\n",
      "    'cf-ray': '8d31ce546dbc4cb4-PHL',\n",
      "    connection: 'keep-alive',\n",
      "    'content-length': '174',\n",
      "    'content-type': 'application/json',\n",
      "    date: 'Tue, 15 Oct 2024 18:17:26 GMT',\n",
      "    'request-id': 'req_01KmCWPiHgb8dYA2BVTj3PLg',\n",
      "    server: 'cloudflare',\n",
      "    via: '1.1 google',\n",
      "    'x-cloud-trace-context': '0ed3337a93992fea9658571ab0704d3e',\n",
      "    'x-robots-tag': 'none',\n",
      "    'x-should-retry': 'false'\n",
      "  },\n",
      "  request_id: 'req_01KmCWPiHgb8dYA2BVTj3PLg',\n",
      "  error: {\n",
      "    type: 'error',\n",
      "    error: {\n",
      "      type: 'invalid_request_error',\n",
      "      message: 'messages.0: `tool_result` block(s) provided when previous message does not contain any `tool_use` blocks'\n",
      "    }\n",
      "  },\n",
      "  attemptNumber: 1,\n",
      "  retriesLeft: 6\n",
      "}\n"
     ]
    }
   ],
   "source": [
    "await modelWithTools.invoke([{\n",
    "  role: \"tool\",\n",
    "  content: \"action completed!\",\n",
    "  tool_call_id: \"dummy\",\n",
    "}])"
   ]
  },
  {
   "cell_type": "markdown",
   "metadata": {},
   "source": [
    "See [this guide](/docs/how_to/tool_results_pass_to_model/) for more details on tool calling.\n",
    "\n",
    "## Troubleshooting\n",
    "\n",
    "The following may help resolve this error:\n",
    "\n",
    "- If you are using a custom executor rather than a prebuilt one like LangGraph's [`ToolNode`](https://langchain-ai.github.io/langgraphjs/reference/classes/langgraph_prebuilt.ToolNode.html)\n",
    "  or the legacy LangChain [AgentExecutor](/docs/how_to/agent_executor), verify that you are invoking and returning the result for one tool per tool call.\n",
    "- If you are using [few-shot tool call examples](/docs/how_to/tools_few_shot) with messages that you manually create, and you want to simulate a failure,\n",
    "  you still need to pass back a `ToolMessage` whose content indicates that failure.\n"
   ]
  }
 ],
 "metadata": {
  "kernelspec": {
   "display_name": "TypeScript",
   "language": "typescript",
   "name": "tslab"
  },
  "language_info": {
   "codemirror_mode": {
    "mode": "typescript",
    "name": "javascript",
    "typescript": true
   },
   "file_extension": ".ts",
   "mimetype": "text/typescript",
   "name": "typescript",
   "version": "3.7.2"
  }
 },
 "nbformat": 4,
 "nbformat_minor": 2
}
