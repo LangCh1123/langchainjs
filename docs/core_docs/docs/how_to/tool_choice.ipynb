{
 "cells": [
  {
   "cell_type": "markdown",
   "metadata": {},
   "source": [
    "# How to force tool calling behavior\n",
    "\n",
    ":::info Prerequisites\n",
    "\n",
    "This guide assumes familiarity with the following concepts:\n",
    "- [Chat models](/docs/concepts/#chat-models)\n",
    "- [LangChain Tools](/docs/concepts/#tools)\n",
    "- [How to use a model to call tools](/docs/how_to/tool_calling)\n",
    ":::\n",
    "\n",
    "In order to force our LLM to select a specific tool, we can use the `tool_choice` parameter to ensure certain behavior. First, let's define our model and tools:"
   ]
  },
  {
   "cell_type": "code",
   "execution_count": 1,
   "metadata": {},
   "outputs": [],
   "source": [
    "import { tool } from '@langchain/core/tools';\n",
    "import { z } from 'zod';\n",
    "\n",
    "const add = tool((input) => {\n",
    "    return `${input.a + input.b}`\n",
    "}, {\n",
    "    name: \"add\",\n",
    "    description: \"Adds a and b.\",\n",
    "    schema: z.object({\n",
    "        a: z.number(),\n",
    "        b: z.number(),\n",
    "    })\n",
    "})\n",
    "\n",
    "const multiply = tool((input) => {\n",
    "    return `${input.a * input.b}`\n",
    "}, {\n",
    "    name: \"admultiplyd\",\n",
    "    description: \"Multiplies a and b.\",\n",
    "    schema: z.object({\n",
    "        a: z.number(),\n",
    "        b: z.number(),\n",
    "    })\n",
    "})\n",
    "\n",
    "const tools = [add, multiply]"
   ]
  },
  {
   "cell_type": "code",
   "execution_count": 2,
   "metadata": {},
   "outputs": [],
   "source": [
    "import { ChatOpenAI } from '@langchain/openai';\n",
    "\n",
    "const llm = new ChatOpenAI({\n",
    "  model: \"gpt-3.5-turbo\",\n",
    "})"
   ]
  },
  {
   "cell_type": "markdown",
   "metadata": {},
   "source": [
    "For example, we can force our tool to call the multiply tool by using the following code:"
   ]
  },
  {
   "cell_type": "code",
   "execution_count": 3,
   "metadata": {},
   "outputs": [
    {
     "name": "stderr",
     "output_type": "stream",
     "text": [
      "2:3 - Type '\"Multiply\"' is not assignable to type 'ChatCompletionToolChoiceOption'.\n"
     ]
    }
   ],
   "source": [
    "const llmForcedToMultiply = llm.bindTools(tools, {\n",
    "  tool_choice: \"Multiply\",\n",
    "})\n",
    "await llmForcedToMultiply.invoke(\"what is 2 + 4\");"
   ]
  },
  {
   "cell_type": "markdown",
   "metadata": {},
   "source": [
    "Even if we pass it something that doesn't require multiplcation - it will still call the tool!"
   ]
  },
  {
   "cell_type": "markdown",
   "metadata": {},
   "source": [
    "We can also just force our tool to select at least one of our tools by passing in the \"any\" (or \"required\" which is OpenAI specific) keyword to the `tool_choice` parameter."
   ]
  },
  {
   "cell_type": "code",
   "execution_count": null,
   "metadata": {},
   "outputs": [
    {
     "data": {
      "text/plain": [
       "AIMessage(content='', additional_kwargs={'tool_calls': [{'id': 'call_mCSiJntCwHJUBfaHZVUB2D8W', 'function': {'arguments': '{\"a\":1,\"b\":2}', 'name': 'Add'}, 'type': 'function'}]}, response_metadata={'token_usage': {'completion_tokens': 15, 'prompt_tokens': 94, 'total_tokens': 109}, 'model_name': 'gpt-3.5-turbo-0125', 'system_fingerprint': None, 'finish_reason': 'stop', 'logprobs': None}, id='run-28f75260-9900-4bed-8cd3-f1579abb65e5-0', tool_calls=[{'name': 'Add', 'args': {'a': 1, 'b': 2}, 'id': 'call_mCSiJntCwHJUBfaHZVUB2D8W'}], usage_metadata={'input_tokens': 94, 'output_tokens': 15, 'total_tokens': 109})"
      ]
     },
     "metadata": {},
     "output_type": "display_data"
    }
   ],
   "source": [
    "llm_forced_to_use_tool = llm.bind_tools(tools, tool_choice=\"any\")\n",
    "llm_forced_to_use_tool.invoke(\"What day is today?\")"
   ]
  }
 ],
 "metadata": {
  "kernelspec": {
   "display_name": "TypeScript",
   "language": "typescript",
   "name": "tslab"
  },
  "language_info": {
   "codemirror_mode": {
    "mode": "typescript",
    "name": "javascript",
    "typescript": true
   },
   "file_extension": ".ts",
   "mimetype": "text/typescript",
   "name": "typescript",
   "version": "3.7.2"
  }
 },
 "nbformat": 4,
 "nbformat_minor": 2
}
