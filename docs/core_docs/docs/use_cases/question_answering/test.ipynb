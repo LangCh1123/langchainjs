{
 "cells": [
  {
   "cell_type": "code",
   "execution_count": 2,
   "metadata": {},
   "outputs": [
    {
     "ename": "TypeError",
     "evalue": "Relative import path \"@langchain/core/messages\" not prefixed with / or ./ or ../ and not in import map from \"file:///Users/bracesproul/code/lang-chain-ai/wt/brace/qa-rag-use-case/docs/core_docs/docs/use_cases/question_answering/$deno$repl.ts\"",
     "output_type": "error",
     "traceback": [
      "Stack trace:",
      "TypeError: Relative import path \"@langchain/core/messages\" not prefixed with / or ./ or ../ and not in import map from \"file:///Users/bracesproul/code/lang-chain-ai/wt/brace/qa-rag-use-case/docs/core_docs/docs/use_cases/question_answering/$deno$repl.ts\"",
      "    at async <anonymous>:1:47"
     ]
    }
   ],
   "source": [
    "import { HumanMessage } from \"@langchain/core/messages\";\n",
    "\n",
    "const msg = new HumanMessage(\"Hello, World!\")"
   ]
  }
 ],
 "metadata": {
  "kernelspec": {
   "display_name": "Deno",
   "language": "typescript",
   "name": "deno"
  },
  "language_info": {
   "file_extension": ".ts",
   "mimetype": "text/x.typescript",
   "name": "typescript",
   "nb_converter": "script",
   "pygments_lexer": "typescript",
   "version": "5.3.3"
  }
 },
 "nbformat": 4,
 "nbformat_minor": 2
}
