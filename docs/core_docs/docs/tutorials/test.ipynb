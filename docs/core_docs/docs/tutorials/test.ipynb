{
 "cells": [
  {
   "cell_type": "code",
   "execution_count": 2,
   "metadata": {},
   "outputs": [
    {
     "name": "stdout",
     "output_type": "stream",
     "text": [
      "{\n",
      "  answer: 'The powerhouse of the cell is the mitochondrion.',\n",
      "  followup_question: 'What is the main function of the mitochondrion in the cell?'\n",
      "}\n"
     ]
    }
   ],
   "source": [
    "import { z } from \"zod\";\n",
    "import { zodToJsonSchema } from \"zod-to-json-schema\";\n",
    "import { ChatOpenAI } from \"@langchain/openai\";\n",
    "\n",
    "const toolSchema = z.object({\n",
    "  answer: z.string().describe(\"The answer to the user's question\"),\n",
    "  followup_question: z.string().describe(\"A followup question the user could ask\"),\n",
    "});\n",
    "\n",
    "const model = new ChatOpenAI({\n",
    "  model: \"gpt-4o\",\n",
    "  temperature: 0,\n",
    "});\n",
    "\n",
    "const modelWithTools = model.bindTools([{\n",
    "  type: \"function\",\n",
    "  function: {\n",
    "    name: \"response_formatter\",\n",
    "    description: \"Always use this tool to structure your response to the user.\",\n",
    "    parameters: zodToJsonSchema(toolSchema),\n",
    "  },\n",
    "}]);\n",
    "\n",
    "const aiMessage = await modelWithTools.invoke(\"What is the powerhouse of the cell?\");\n",
    "\n",
    "aiMessage.tool_calls?.[0].args;"
   ]
  },
  {
   "cell_type": "code",
   "execution_count": null,
   "metadata": {},
   "outputs": [],
   "source": []
  }
 ],
 "metadata": {
  "kernelspec": {
   "display_name": "TypeScript",
   "language": "typescript",
   "name": "tslab"
  },
  "language_info": {
   "codemirror_mode": {
    "mode": "typescript",
    "name": "javascript",
    "typescript": true
   },
   "file_extension": ".ts",
   "mimetype": "text/typescript",
   "name": "typescript",
   "version": "3.7.2"
  }
 },
 "nbformat": 4,
 "nbformat_minor": 2
}
