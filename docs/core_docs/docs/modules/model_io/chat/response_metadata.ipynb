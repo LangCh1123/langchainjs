{
 "cells": [
  {
   "cell_type": "markdown",
   "metadata": {},
   "source": [
    "# Response metadata\n",
    "\n",
    "Many model providers include some metadata in their chat generation responses. This metadata can be accessed via the `AIMessage.response_metadata` attribute. Depending on the model provider and model configuration, this can contain information like [token counts](/docs/modules/model_io/chat/token_usage_tracking/) and more.\n",
    "\n",
    "Here’s what the response metadata looks like for a few different providers:\n",
    "\n",
    "## OpenAI"
   ]
  },
  {
   "cell_type": "code",
   "execution_count": 1,
   "metadata": {},
   "outputs": [
    {
     "name": "stdout",
     "output_type": "stream",
     "text": [
      "{\n",
      "  tokenUsage: { completionTokens: 219, promptTokens: 17, totalTokens: 236 },\n",
      "  finish_reason: \"stop\"\n",
      "}\n"
     ]
    }
   ],
   "source": [
    "import { ChatOpenAI } from \"@langchain/openai\";\n",
    "\n",
    "const chatModel = new ChatOpenAI({ model: \"gpt-4-turbo\" });\n",
    "const message = await chatModel.invoke([\n",
    "  [\"human\", \"What's the oldest known example of cuneiform\"],\n",
    "]);\n",
    "\n",
    "console.log(message.response_metadata);"
   ]
  },
  {
   "cell_type": "markdown",
   "metadata": {},
   "source": [
    "## Anthropic"
   ]
  },
  {
   "cell_type": "code",
   "execution_count": 1,
   "metadata": {},
   "outputs": [
    {
     "name": "stdout",
     "output_type": "stream",
     "text": [
      "{}\n"
     ]
    }
   ],
   "source": [
    "import { ChatAnthropic } from \"@langchain/anthropic\";\n",
    "\n",
    "const chatModel = new ChatAnthropic({ model: \"claude-3-sonnet-20240229\" });\n",
    "const message = await chatModel.invoke([\n",
    "  [\"human\", \"What's the oldest known example of cuneiform\"],\n",
    "]);\n",
    "\n",
    "console.log(message.response_metadata);"
   ]
  },
  {
   "cell_type": "markdown",
   "metadata": {},
   "source": [
    "## Google VertexAI"
   ]
  },
  {
   "cell_type": "code",
   "execution_count": 1,
   "metadata": {},
   "outputs": [
    {
     "name": "stdout",
     "output_type": "stream",
     "text": [
      "{\n",
      "  data: [\n",
      "    {\n",
      "      candidates: [ { content: [Object], safetyRatings: [Array] } ],\n",
      "      promptFeedback: undefined\n",
      "    },\n",
      "    { candidates: [ { content: [Object], safetyRatings: [Array] } ] },\n",
      "    { candidates: [ { content: [Object], safetyRatings: [Array] } ] },\n",
      "    { candidates: [ { content: [Object], safetyRatings: [Array] } ] },\n",
      "    { candidates: [ { content: [Object], safetyRatings: [Array] } ] },\n",
      "    {\n",
      "      candidates: [\n",
      "        {\n",
      "          content: [Object],\n",
      "          finishReason: \"STOP\",\n",
      "          safetyRatings: [Array]\n",
      "        }\n",
      "      ],\n",
      "      usageMetadata: {\n",
      "        promptTokenCount: 10,\n",
      "        candidatesTokenCount: 228,\n",
      "        totalTokenCount: 238\n",
      "      }\n",
      "    }\n",
      "  ],\n",
      "  config: {},\n",
      "  status: 200,\n",
      "  statusText: \"OK\",\n",
      "  headers: Headers {\n",
      "    \"alt-svc\": 'h3=\":443\"; ma=2592000,h3-29=\":443\"; ma=2592000',\n",
      "    \"cache-control\": \"private\",\n",
      "    \"content-type\": \"application/json; charset=UTF-8\",\n",
      "    date: \"Wed, 17 Apr 2024 01:10:11 GMT\",\n",
      "    server: \"scaffolding on HTTPServer2\",\n",
      "    vary: \"Origin, X-Origin, Referer\",\n",
      "    \"x-content-type-options\": \"nosniff\",\n",
      "    \"x-frame-options\": \"SAMEORIGIN\",\n",
      "    \"x-xss-protection\": \"0\"\n",
      "  },\n",
      "  request: {\n",
      "    responseURL: \"https://us-central1-aiplatform.googleapis.com/v1/projects/langchain-test-387119/locations/us-central\"... 59 more characters\n",
      "  }\n",
      "}\n"
     ]
    }
   ],
   "source": [
    "import { ChatVertexAI } from \"@langchain/google-vertexai-web\";\n",
    "\n",
    "const chatModel = new ChatVertexAI({ model: \"gemini-pro\" });\n",
    "const message = await chatModel.invoke([\n",
    "  [\"human\", \"What's the oldest known example of cuneiform\"],\n",
    "]);\n",
    "\n",
    "console.log(message.response_metadata);"
   ]
  },
  {
   "cell_type": "markdown",
   "metadata": {},
   "source": [
    "## MistralAI"
   ]
  },
  {
   "cell_type": "code",
   "execution_count": 3,
   "metadata": {},
   "outputs": [
    {
     "name": "stdout",
     "output_type": "stream",
     "text": [
      "{\n",
      "  tokenUsage: { completionTokens: 133, promptTokens: 19, totalTokens: 152 },\n",
      "  finish_reason: \"stop\"\n",
      "}\n"
     ]
    }
   ],
   "source": [
    "import { ChatMistralAI } from \"@langchain/mistralai\";\n",
    "\n",
    "const chatModel = new ChatMistralAI({ model: \"mistral-tiny\" });\n",
    "const message = await chatModel.invoke([\n",
    "  [\"human\", \"What's the oldest known example of cuneiform\"],\n",
    "]);\n",
    "\n",
    "console.log(message.response_metadata);"
   ]
  }
 ],
 "metadata": {
  "kernelspec": {
   "display_name": "Deno",
   "language": "typescript",
   "name": "deno"
  },
  "language_info": {
   "file_extension": ".ts",
   "mimetype": "text/x.typescript",
   "name": "typescript",
   "nb_converter": "script",
   "pygments_lexer": "typescript",
   "version": "5.3.3"
  }
 },
 "nbformat": 4,
 "nbformat_minor": 2
}
