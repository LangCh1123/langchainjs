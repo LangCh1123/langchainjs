{
  "cells": [
    {
      "cell_type": "markdown",
      "metadata": {},
      "source": [
        "# Calling Tools\n",
        "\n",
        "Tool calling allows a model to respond to a given prompt by generating output that matches a user-defined schema. While the name implies that the model is performing some action, this is actually not the case! The model is merely coming up with the arguments to a tool, and actually running a [tool](/docs/modules/agents/tools/) (or not) is up to the user. For example, if you want to [extract output matching some schema](/docs/use_cases/extraction/) from unstructured text, you could give the model an \"extraction\" tool that takes parameters matching the desired schema, then treat the generated output as your final result.\n",
        "\n",
        "Note that [not all chat models](/docs/integrations/chat/) support tool calling currently.\n",
        "\n",
        "A [tool call object](https://api.js.langchain.com/types/langchain_core_messages_tool.ToolCall.html) includes a `name`, `arguments` option, and an optional `id`.\n",
        "\n",
        "Many LLM providers, including [Anthropic](/docs/integrations/chat/anthropic), [Google Vertex](/docs/integrations/chat/google_vertex_ai),\n",
        "[Mistral](/docs/integrations/chat/mistral), [OpenAI](/docs/integrations/chat/openai), and others, \n",
        "support variants of a tool calling feature. These features typically allow requests \n",
        "to the LLM to include available tools and their schemas, and for responses to include \n",
        "calls to these tools.\n",
        "\n",
        "For instance, given a search engine tool, an LLM might handle a \n",
        "query by first calling the search engine tool by generated required parameters in the right format. The system calling the LLM can \n",
        "receive these generated parameters and use them to execute the tool, then the output to the LLM to inform its \n",
        "response. LangChain includes a suite of [built-in tools](/docs/integrations/tools/) \n",
        "and supports several methods for defining your own [custom tools](/docs/modules/tools/custom_tools). \n",
        "Tool-calling is extremely useful for building [tool-using chains and agents](/docs/use_cases/tool_use), \n",
        "and for getting structured outputs from models more generally.\n",
        "\n",
        "Providers adopt different conventions for formatting tool schemas and tool calls. \n",
        "For instance, Anthropic returns tool calls as parsed structures within a larger content block:\n",
        "\n",
        "```json\n",
        "[\n",
        "  {\n",
        "    \"text\": \"<thinking>\\nI should use a tool.\\n</thinking>\",\n",
        "    \"type\": \"text\"\n",
        "  },\n",
        "  {\n",
        "    \"id\": \"id_value\",\n",
        "    \"input\": {\"arg_name\": \"arg_value\"},\n",
        "    \"name\": \"tool_name\",\n",
        "    \"type\": \"tool_use\"\n",
        "  }\n",
        "]\n",
        "```\n",
        "\n",
        "whereas OpenAI separates tool calls into a distinct parameter, with arguments as JSON strings:\n",
        "\n",
        "```json\n",
        "{\n",
        "  \"tool_calls\": [\n",
        "    {\n",
        "      \"id\": \"id_value\",\n",
        "      \"function\": {\n",
        "        \"arguments\": '{\"arg_name\": \"arg_value\"}',\n",
        "        \"name\": \"tool_name\"\n",
        "      },\n",
        "      \"type\": \"function\"\n",
        "    }\n",
        "  ]\n",
        "}\n",
        "```\n",
        "\n",
        "LangChain implements standard interfaces for defining tools, passing them to LLMs, \n",
        "and representing tool calls.\n",
        "\n",
        "## Passing tools to LLMs\n",
        "\n",
        "Chat models that support tool calling features implement a [`.bindTools()`](https://api.js.langchain.com/classes/langchain_core_language_models_chat_models.BaseChatModel.html#bindTools) method, which \n",
        "receives a list of LangChain [tool objects](https://api.js.langchain.com/classes/langchain_core_tools.StructuredTool.html) \n",
        "and binds them to the chat model in its expected format. Subsequent invocations of the \n",
        "chat model will include tool schemas in its calls to the LLM.\n",
        "\n",
        "Let's walk through a few examples. First, make sure you have required dependencies installed. We'll use Mistral by default, but you can use any [tool calling model](/docs/integrations/chat/):"
      ]
    },
    {
      "cell_type": "markdown",
      "metadata": {},
      "source": [
        "```{=mdx}\n",
        "import IntegrationInstallTooltip from \"@mdx_components/integration_install_tooltip.mdx\";\n",
        "import Npm2Yarn from \"@theme/Npm2Yarn\";\n",
        "\n",
        "<IntegrationInstallTooltip></IntegrationInstallTooltip>\n",
        "\n",
        "<Npm2Yarn>\n",
        "  @langchain/core @langchain/mistralai\n",
        "</Npm2Yarn>\n",
        "```\n",
        "\n",
        "```bash\n",
        "MISTRAL_API_KEY=your-api-key\n",
        "```"
      ]
    },
    {
      "cell_type": "markdown",
      "metadata": {},
      "source": [
        "A number of models implement helper methods that will take care of formatting and binding different function-like objects to the model.\n",
        "Let's take a look at how we might take the following Zod function schema and get different models to invoke it:"
      ]
    },
    {
      "cell_type": "code",
      "execution_count": 1,
      "metadata": {},
      "outputs": [],
      "source": [
        "import { z } from \"zod\";\n",
        "\n",
        "/**\n",
        " * Note that the descriptions here are crucial, as they will be passed along\n",
        " * to the model along with the class name.\n",
        " */\n",
        "const calculatorSchema = z.object({\n",
        "  operation: z\n",
        "    .enum([\"add\", \"subtract\", \"multiply\", \"divide\"])\n",
        "    .describe(\"The type of operation to execute.\"),\n",
        "  number1: z.number().describe(\"The first number to operate on.\"),\n",
        "  number2: z.number().describe(\"The second number to operate on.\"),\n",
        "});"
      ]
    },
    {
      "cell_type": "markdown",
      "metadata": {},
      "source": [
        "We can use the `ChatMistral.bindTools()` method to handle converting this LangChain tool to Mistral's format and binding it to the model (i.e., passing it in each time the model is invoked). Let's create a `DynamicStructuredTool` implementing the above logic, then bind it to the model:"
      ]
    },
    {
      "cell_type": "code",
      "execution_count": 2,
      "metadata": {},
      "outputs": [
        {
          "data": {
            "text/plain": [
              "AIMessage {\n",
              "  lc_serializable: \u001b[33mtrue\u001b[39m,\n",
              "  lc_kwargs: {\n",
              "    content: \u001b[32m\"\"\u001b[39m,\n",
              "    additional_kwargs: {\n",
              "      function_call: \u001b[90mundefined\u001b[39m,\n",
              "      tool_calls: [\n",
              "        {\n",
              "          id: \u001b[32m\"call_cLBi7NjrehSEPoXr21i08NER\"\u001b[39m,\n",
              "          type: \u001b[32m\"function\"\u001b[39m,\n",
              "          function: \u001b[36m[Object]\u001b[39m\n",
              "        }\n",
              "      ]\n",
              "    }\n",
              "  },\n",
              "  lc_namespace: [ \u001b[32m\"langchain_core\"\u001b[39m, \u001b[32m\"messages\"\u001b[39m ],\n",
              "  content: \u001b[32m\"\"\u001b[39m,\n",
              "  name: \u001b[90mundefined\u001b[39m,\n",
              "  additional_kwargs: {\n",
              "    function_call: \u001b[90mundefined\u001b[39m,\n",
              "    tool_calls: [\n",
              "      {\n",
              "        id: \u001b[32m\"call_cLBi7NjrehSEPoXr21i08NER\"\u001b[39m,\n",
              "        type: \u001b[32m\"function\"\u001b[39m,\n",
              "        function: {\n",
              "          name: \u001b[32m\"calculator\"\u001b[39m,\n",
              "          arguments: \u001b[32m'{\"operation\":\"multiply\",\"number1\":3,\"number2\":12}'\u001b[39m\n",
              "        }\n",
              "      }\n",
              "    ]\n",
              "  }\n",
              "}"
            ]
          },
          "execution_count": 2,
          "metadata": {},
          "output_type": "execute_result"
        }
      ],
      "source": [
        "import { ChatMistralAI } from \"@langchain/mistralai\";\n",
        "import { DynamicStructuredTool } from \"@langchain/core/tools\";\n",
        "\n",
        "const calculatorTool = new DynamicStructuredTool({\n",
        "  name: \"calculator\",\n",
        "  description: \"Can perform mathematical operations.\",\n",
        "  schema: calculatorSchema,\n",
        "  func: async ({ operation, number1, number2 }) => {\n",
        "    // Functions must return strings\n",
        "    if (operation === \"add\") {\n",
        "      return `${number1 + number2}`;\n",
        "    } else if (operation === \"subtract\") {\n",
        "      return `${number1 - number2}`;\n",
        "    } else if (operation === \"multiply\") {\n",
        "      return `${number1 * number2}`;\n",
        "    } else if (operation === \"divide\") {\n",
        "      return `${number1 / number2}`;\n",
        "    } else {\n",
        "      throw new Error(\"Invalid operation.\");\n",
        "    }\n",
        "  }\n",
        "})\n",
        "\n",
        "const llm = new ChatMistralAI({\n",
        "  model: \"mistral-large\",\n",
        "  temperature: 0,\n",
        "});\n",
        "\n",
        "const llmWithTools = llm.bindTools([calculatorTool]);"
      ]
    },
    {
      "cell_type": "markdown",
      "metadata": {},
      "source": [
        "Now, let's invoke it! We expect the model to use the calculator to answer the question:"
      ]
    },
    {
      "cell_type": "code",
      "execution_count": null,
      "metadata": {},
      "outputs": [],
      "source": [
        "const res = await llmWithTools.invoke(\"What is 3 * 12\");\n",
        "\n",
        "console.log(res.tool_calls);"
      ]
    },
    {
      "cell_type": "markdown",
      "metadata": {},
      "source": [
        "\n",
        "> #### See the LangSmith trace [here](https://smith.langchain.com/public/cb36c6e5-e478-463c-801a-0c1b09ace04d/r).\n",
        "\n",
        "We can see that the response message contains a `tool_calls` field when the model decides to call the tool. This will be in LangChain's shared format."
      ]
    },
    {
      "cell_type": "markdown",
      "metadata": {},
      "source": [
        "The `.tool_calls` attribute should contain valid tool calls. Note that on occasion, \n",
        "model providers may output malformed tool calls (e.g., arguments that are not \n",
        "valid JSON). When parsing fails in these cases, the message will contain instances of \n",
        "of [InvalidToolCall](https://api.js.langchain.com/types/langchain_core_messages_tool.InvalidToolCall.html) objects in the `.invalid_tool_calls` attribute. An `InvalidToolCall` can have \n",
        "a name, string arguments, identifier, and error message.\n",
        "\n",
        "### Streaming\n",
        "\n",
        "When tools are called in a streaming context, \n",
        "[message chunks](https://api.js.langchain.com/classes/langchain_core_messages.BaseMessageChunk.html) \n",
        "will be populated with [tool call chunk](https://api.js.langchain.com/types/langchain_core_messages_tool.ToolCallChunk.html)\n",
        "objects in a list via the `.tool_call_chunks` attribute. A `ToolCallChunk` includes \n",
        "optional string fields for the tool `name`, `args`, and `id`, and includes an optional \n",
        "integer field `index` that can be used to join chunks together. Fields are optional \n",
        "because portions of a tool call may be streamed across different chunks (e.g., a chunk \n",
        "that includes a substring of the arguments may have null values for the tool name and id).\n",
        "\n",
        "Because message chunks inherit from their parent message class, an \n",
        "[AIMessageChunk](https://api.js.langchain.com/classes/langchain_core_messages.AIMessageChunk.html) \n",
        "with tool call chunks will also include `.tool_calls` and `.invalid_tool_calls` fields. \n",
        "These fields are parsed best-effort from the message's tool call chunks.\n",
        "\n",
        "Note that not all providers currently support streaming for tool calls, and will yield a single chunk with the entire call when `.stream()` is called on them.\n",
        "\n",
        "Example:"
      ]
    },
    {
      "cell_type": "code",
      "execution_count": null,
      "metadata": {},
      "outputs": [],
      "source": []
    },
    {
      "cell_type": "markdown",
      "metadata": {},
      "source": [
        "Note that adding message chunks will merge their corresponding tool call chunks. This is the principle by which LangChain's various [tool output parsers](/docs/modules/model_io/output_parsers/types/openai_tools/) support streaming.\n",
        "\n",
        "For example, below we accumulate tool call chunks:"
      ]
    },
    {
      "cell_type": "code",
      "execution_count": 7,
      "metadata": {},
      "outputs": [
        {
          "data": {
            "text/plain": [
              "{\n",
              "  type: \u001b[32m\"function\"\u001b[39m,\n",
              "  function: {\n",
              "    name: \u001b[32m\"calculator\"\u001b[39m,\n",
              "    description: \u001b[32m\"A simple calculator tool\"\u001b[39m,\n",
              "    parameters: {\n",
              "      type: \u001b[32m\"object\"\u001b[39m,\n",
              "      properties: {\n",
              "        operation: {\n",
              "          type: \u001b[32m\"string\"\u001b[39m,\n",
              "          enum: \u001b[36m[Array]\u001b[39m,\n",
              "          description: \u001b[32m\"The type of operation to execute.\"\u001b[39m\n",
              "        },\n",
              "        number1: {\n",
              "          type: \u001b[32m\"number\"\u001b[39m,\n",
              "          description: \u001b[32m\"The first number to operate on.\"\u001b[39m\n",
              "        },\n",
              "        number2: {\n",
              "          type: \u001b[32m\"number\"\u001b[39m,\n",
              "          description: \u001b[32m\"The second number to operate on.\"\u001b[39m\n",
              "        }\n",
              "      },\n",
              "      required: [ \u001b[32m\"operation\"\u001b[39m, \u001b[32m\"number1\"\u001b[39m, \u001b[32m\"number2\"\u001b[39m ],\n",
              "      additionalProperties: \u001b[33mfalse\u001b[39m,\n",
              "      \u001b[32m\"$schema\"\u001b[39m: \u001b[32m\"http://json-schema.org/draft-07/schema#\"\u001b[39m\n",
              "    }\n",
              "  }\n",
              "}"
            ]
          },
          "execution_count": 7,
          "metadata": {},
          "output_type": "execute_result"
        }
      ],
      "source": []
    },
    {
      "cell_type": "markdown",
      "metadata": {},
      "source": [
        "## Next steps\n",
        "\n",
        "- **Output parsing**: See [OpenAI Tools output parsers](/docs/modules/model_io/output_parsers/types/openai_tools) to learn about extracting the function calling API responses into various formats.\n",
        "- **Structured output chains**: Some models have constructors that handle creating a structured output chain for you ([OpenAI](/docs/integrations/chat/openai#withstructuredoutput--), [Mistral](/docs/integrations/chat/mistral#withstructuredoutput--)).\n",
        "- **Tool use**: See how to construct chains and agents that actually call the invoked tools in [these guides](/docs/use_cases/tool_use/).\n"
      ]
    }
  ],
  "metadata": {
    "kernelspec": {
      "display_name": "Deno",
      "language": "typescript",
      "name": "deno"
    },
    "language_info": {
      "file_extension": ".ts",
      "mimetype": "text/x.typescript",
      "name": "typescript",
      "nb_converter": "script",
      "pygments_lexer": "typescript",
      "version": "5.3.3"
    }
  },
  "nbformat": 4,
  "nbformat_minor": 2
}
