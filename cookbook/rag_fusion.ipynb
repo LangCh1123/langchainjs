{
 "cells": [
  {
   "cell_type": "markdown",
   "metadata": {},
   "source": [
    "# RAG Fusion\n",
    "A LangChain JS port of (this Github repo)[https://github.com/Raudaschl/rag-fusion], all credit to the original author.\n",
    "> RAG-Fusion, a search methodology that aims to bridge the gap between traditional search paradigms and the multifaceted dimensions of human queries. Inspired by the capabilities of Retrieval Augmented Generation (RAG), this project goes a step further by employing multiple query generation and Reciprocal Rank Fusion to re-rank search results."
   ]
  },
  {
   "cell_type": "markdown",
   "metadata": {},
   "source": [
    "## Setup\n",
    "For this example we'll use HSNW as our vector store/retriever, and some fake data.\n"
   ]
  },
  {
   "cell_type": "code",
   "execution_count": null,
   "metadata": {},
   "outputs": [],
   "source": [
    "// Deno.env.set(\"OPENAI_API_KEY\", \"\");\n",
    "\n",
    "import { OpenAIEmbeddings } from \"npm:langchain@0.0.172/embeddings/openai\";\n",
    "import { HNSWLib } from \"npm:langchain@0.0.172/vectorstores/hnswlib\";"
   ]
  },
  {
   "cell_type": "code",
   "execution_count": null,
   "metadata": {},
   "outputs": [],
   "source": [
    "/** Define our fake data */\n",
    "const allDocuments = [\n",
    "  { id: \"doc1\", text: \"Climate change and economic impact.\" },\n",
    "  { id: \"doc2\", text: \"Public health concerns due to climate change.\" },\n",
    "  { id: \"doc3\", text: \"Climate change: A social perspective.\" },\n",
    "  { id: \"doc4\", text: \"Technological solutions to climate change.\" },\n",
    "  { id: \"doc5\", text: \"Policy changes needed to combat climate change.\" },\n",
    "  { id: \"doc6\", text: \"Climate change and its impact on biodiversity.\" },\n",
    "  { id: \"doc7\", text: \"Climate change: The science and models.\" },\n",
    "  { id: \"doc8\", text: \"Global warming: A subset of climate change.\" },\n",
    "  { id: \"doc9\", text: \"How climate change affects daily weather.\" },\n",
    "  { id: \"doc10\", text: \"The history of climate change activism.\" },\n",
    "];"
   ]
  },
  {
   "cell_type": "code",
   "execution_count": null,
   "metadata": {},
   "outputs": [],
   "source": [
    "/** Initialize our vector store with the fake data and OpenAI embeddings. */\n",
    "const vectorStore = await HNSWLib.fromTexts(\n",
    "  allDocuments.map(({ text }) => text),\n",
    "  allDocuments.map(({ id }) => ({ id })),\n",
    "  new OpenAIEmbeddings()\n",
    ");\n",
    "/** Create the retriever */\n",
    "const retriever = vectorStore.asRetriever();"
   ]
  },
  {
   "cell_type": "markdown",
   "metadata": {},
   "source": [
    "## Define the Query Generator\n",
    "\n",
    "We will now define a chain to do the query generation\n",
    "This chain (pulls a prompt)[https://smith.langchain.com/hub/langchain-ai/rag-fusion-query-generation] from the (LangChain Hub)[https://smith.langchain.com/hub] that when provided a query, it tasks the model to generate multiple search queries related to the original. In our case, we're asking for 4 additional queries."
   ]
  },
  {
   "cell_type": "code",
   "execution_count": null,
   "metadata": {},
   "outputs": [],
   "source": [
    "import { ChatOpenAI } from \"npm:langchain@0.0.172/chat_models/openai\";\n",
    "import { pull } from \"npm:langchain@0.0.172/hub\";\n",
    "import { StringOutputParser } from \"npm:langchain@0.0.172/schema/output_parser\";\n",
    "import { RunnableLambda, RunnableSequence } from \"npm:langchain@0.0.172/schema/runnable\";"
   ]
  },
  {
   "cell_type": "code",
   "execution_count": null,
   "metadata": {},
   "outputs": [],
   "source": [
    "/** Define the chat model */\n",
    "const model = new ChatOpenAI({\n",
    "  temperature: 0,\n",
    "  openAIApiKey: Deno.env.get(\"OPENAI_API_KEY\"),\n",
    "});"
   ]
  },
  {
   "cell_type": "code",
   "execution_count": null,
   "metadata": {},
   "outputs": [],
   "source": [
    "/** Pull a prompt from the hub */\n",
    "const prompt = await pull(\"langchain-ai/rag-fusion-query-generation\");\n",
    "//  const prompt = ChatPromptTemplate.fromMessages([\n",
    "//    [\"system\", \"You are a helpful assistant that generates multiple search queries based on a single input query.\"],\n",
    "//    [\"user\", \"Generate multiple search queries related to: {original_query}\"],\n",
    "//    [\"user\", \"OUTPUT (4 queries):\"],\n",
    "//  ]);"
   ]
  },
  {
   "cell_type": "code",
   "execution_count": null,
   "metadata": {},
   "outputs": [],
   "source": [
    "/** Define our chain for generating queries  */\n",
    "const generateQueries = RunnableSequence.from([\n",
    "  prompt,\n",
    "  model,\n",
    "  new StringOutputParser(),\n",
    "  RunnableLambda.from((output) => output.split(\"\\n\")),\n",
    "]);"
   ]
  },
  {
   "cell_type": "markdown",
   "metadata": {},
   "source": [
    "## Construct the Reciprocal Rank Fusion function\n",
    "This function is used for combining the results of multiple search queries to produce a single ranked list of results. This is a common technique in information retrieval known as data fusion or result merging."
   ]
  },
  {
   "cell_type": "code",
   "execution_count": null,
   "metadata": {},
   "outputs": [],
   "source": [
    "import { Document } from \"npm:langchain@0.0.172/document\";"
   ]
  },
  {
   "cell_type": "code",
   "execution_count": null,
   "metadata": {},
   "outputs": [],
   "source": [
    "const reciprocalRankFusion = (results: string[][], k = 60) => {\n",
    "  const fusedScores: Record<string, number> = {};\n",
    "  for (const result of results) {\n",
    "    // Assumes the docs are returned in sorted order of relevance\n",
    "    result.forEach((item, index) => {\n",
    "      if (!(item in fusedScores)) {\n",
    "        fusedScores[item] = 0;\n",
    "      }\n",
    "      fusedScores[item] += 1 / (index + k);\n",
    "    });\n",
    "  }\n",
    "\n",
    "  const rerankedResults = Object.entries(fusedScores)\n",
    "    .sort((a, b) => b[1] - a[1])\n",
    "    .map(\n",
    "      ([doc, score]) => new Document({ pageContent: doc, metadata: { score } })\n",
    "    );\n",
    "  return rerankedResults;\n",
    "};"
   ]
  },
  {
   "cell_type": "markdown",
   "metadata": {},
   "source": [
    "## Define the full chain\n",
    "Now we can put all our pieces together in one chain.\n",
    "The chain preforms the following steps:\n",
    "1. Generate 4 search queries based on the original query\n",
    "2. Perform lookups with the retriever for each generated query\n",
    "3. Pass the results of the vector store lookup to the `reciprocalRankFusion` function"
   ]
  },
  {
   "cell_type": "code",
   "execution_count": null,
   "metadata": {},
   "outputs": [],
   "source": [
    "const chain = RunnableSequence.from([\n",
    "  generateQueries,\n",
    "  retriever.map(),\n",
    "  reciprocalRankFusion,\n",
    "]);"
   ]
  },
  {
   "cell_type": "code",
   "execution_count": null,
   "metadata": {},
   "outputs": [],
   "source": [
    "const result = await chain.invoke({\n",
    "  original_query: originalQuery,\n",
    "});\n",
    "\n",
    "console.log(result);"
   ]
  },
  {
   "cell_type": "markdown",
   "metadata": {},
   "source": [
    "The result of the chain is the following:"
   ]
  },
  {
   "cell_type": "code",
   "execution_count": null,
   "metadata": {},
   "outputs": [],
   "source": [
    "[\n",
    "  Document {\n",
    "    pageContent: '{\"pageContent\":\"Climate change and economic impact.\",\"metadata\":{\"id\":\"doc1\"}}',\n",
    "    metadata: { score: 0.06558258417063283 }\n",
    "  },\n",
    "  Document {\n",
    "    pageContent: '{\"pageContent\":\"Climate change and its impact on biodiversity.\",\"metadata\":{\"id\":\"doc6\"}}',\n",
    "    metadata: { score: 0.04866871479774705 }\n",
    "  },\n",
    "  Document {\n",
    "    pageContent: '{\"pageContent\":\"How climate change affects daily weather.\",\"metadata\":{\"id\":\"doc9\"}}',\n",
    "    metadata: { score: 0.048131080389144903 }\n",
    "  },\n",
    "  Document {\n",
    "    pageContent: '{\"pageContent\":\"Public health concerns due to climate change.\",\"metadata\":{\"id\":\"doc2\"}}',\n",
    "    metadata: { score: 0.03306010928961749 }\n",
    "  },\n",
    "  Document {\n",
    "    pageContent: '{\"pageContent\":\"Climate change: A social perspective.\",\"metadata\":{\"id\":\"doc3\"}}',\n",
    "    metadata: { score: 0.031746031746031744 }\n",
    "  },\n",
    "  Document {\n",
    "    pageContent: '{\"pageContent\":\"Technological solutions to climate change.\",\"metadata\":{\"id\":\"doc4\"}}',\n",
    "    metadata: { score: 0.016666666666666666 }\n",
    "  },\n",
    "  Document {\n",
    "    pageContent: '{\"pageContent\":\"Policy changes needed to combat climate change.\",\"metadata\":{\"id\":\"doc5\"}}',\n",
    "    metadata: { score: 0.01639344262295082 }\n",
    "  }\n",
    "]"
   ]
  }
 ],
 "metadata": {
  "kernelspec": {
   "display_name": "Deno",
   "language": "typescript",
   "name": "deno"
  },
  "language_info": {
   "file_extension": ".ts",
   "mimetype": "text/x.typescript",
   "name": "typescript",
   "nb_converter": "script",
   "pygments_lexer": "typescript",
   "version": "5.2.2"
  }
 },
 "nbformat": 4,
 "nbformat_minor": 2
}
